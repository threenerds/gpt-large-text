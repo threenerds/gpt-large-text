{
 "cells": [
  {
   "cell_type": "code",
   "execution_count": 1,
   "metadata": {},
   "outputs": [],
   "source": [
    "\n",
    "import json\n",
    "from library.text import *\n",
    "from library.openai import *"
   ]
  },
  {
   "cell_type": "code",
   "execution_count": 2,
   "metadata": {},
   "outputs": [],
   "source": [
    "chunked_text = prepare_text(\"meetings/Meeting_20230310_1738 (1).txt\")"
   ]
  },
  {
   "cell_type": "code",
   "execution_count": 3,
   "metadata": {},
   "outputs": [
    {
     "data": {
      "text/plain": [
       "8"
      ]
     },
     "execution_count": 3,
     "metadata": {},
     "output_type": "execute_result"
    }
   ],
   "source": [
    "len(chunked_text)"
   ]
  },
  {
   "cell_type": "code",
   "execution_count": 4,
   "metadata": {},
   "outputs": [
    {
     "name": "stdout",
     "output_type": "stream",
     "text": [
      "number of tokens: 2085\n",
      "number of tokens: 2153\n",
      "number of tokens: 2097\n",
      "number of tokens: 2130\n",
      "number of tokens: 1969\n",
      "number of tokens: 2234\n",
      "number of tokens: 2183\n",
      "number of tokens: 144\n"
     ]
    }
   ],
   "source": [
    "responses = []\n",
    "for chunk in chunked_text:\n",
    "    prompt = f\"Voy a proporcionarte un meeting transcript y quiero que me devuelvas un resumen de la misma, separando resumen, tareas, acuerdos y decisiones. \\n'''{chunk}'''\\n\"\n",
    "    print(f\"number of tokens: {num_tokens_from_string(prompt)}\")\n",
    "    responses.append(completion(prompt))"
   ]
  },
  {
   "cell_type": "code",
   "execution_count": 7,
   "metadata": {},
   "outputs": [
    {
     "name": "stdout",
     "output_type": "stream",
     "text": [
      "\n",
      "Resumen: El equipo discutió sobre la posibilidad de crear un plugin para marcar un número telefónico con un código para entrar a una llamada de Google Meet, Zoom o Teams. También discutieron sobre la posibilidad de usar un software como Génesis para marcar la llamada y grabar el audio para convertirlo a texto.\n",
      "\n",
      "Tareas: Investigar la posibilidad de crear un plugin para marcar un número telefónico con un código para entrar a una llamada de Google Meet, Zoom o Teams. Investigar la posibilidad de usar un software como Génesis para marcar la llamada y grabar el audio para convertirlo a texto.\n",
      "\n",
      "Acuerdos: Usar un plugin para marcar un número telefónico con un código para entrar a una llamada de Google Meet, Zoom o Teams. Usar un software como Génesis para marcar la llamada y grabar el audio para convertirlo a texto.\n",
      "\n",
      "Decisiones: Usar un plugin para marcar un número telefónico con un código para entrar a una llamada de Google Meet, Zoom o Teams. Usar un software como Génesis para marcar la llamada y grabar el audio para convertirlo a texto.\n"
     ]
    }
   ],
   "source": [
    "print(responses[0]['choices'][0]['text'])"
   ]
  },
  {
   "cell_type": "code",
   "execution_count": 19,
   "metadata": {},
   "outputs": [],
   "source": [
    "main_text = \"\\n\".join([ x['choices'][0]['text'].strip() for x in responses])\n",
    "main_prompt = f\"'''\\n{main_text}'''\\n Integra el texto anterior en una sola estructura: resumen, tareas, acuerdos y decisiones, pero devuelvelo en formato JSON tal como el siguiente ejemplo: \\n\"\n"
   ]
  },
  {
   "cell_type": "code",
   "execution_count": 20,
   "metadata": {},
   "outputs": [],
   "source": [
    "meeting_dict = json.dumps({\n",
    "    \"resumen\":\"[RESUMEN DEL TRANSCRIPT]\",\n",
    "    \"tareas\":[\"[TAREAS 1]\",\"[TAREAS 2]\"], \n",
    "    \"acuerdos\":[\"[ACUERDO 1]\",\"[ACUERDO 2]\",\"[ACUERDO 3]\",],\n",
    "    \"decisiones\":[\"[DECISION 1]\",\"[DECISION 2]\",\"[DECISION 3]\"]\n",
    "})"
   ]
  },
  {
   "cell_type": "code",
   "execution_count": 21,
   "metadata": {},
   "outputs": [],
   "source": [
    "main_prompt+=meeting_dict"
   ]
  },
  {
   "cell_type": "code",
   "execution_count": 22,
   "metadata": {},
   "outputs": [
    {
     "name": "stdout",
     "output_type": "stream",
     "text": [
      "'''\n",
      "Resumen: El equipo discutió sobre la posibilidad de crear un plugin para marcar un número telefónico con un código para entrar a una llamada de Google Meet, Zoom o Teams. También discutieron sobre la posibilidad de usar un software como Génesis para marcar la llamada y grabar el audio para convertirlo a texto.\n",
      "\n",
      "Tareas: Investigar la posibilidad de crear un plugin para marcar un número telefónico con un código para entrar a una llamada de Google Meet, Zoom o Teams. Investigar la posibilidad de usar un software como Génesis para marcar la llamada y grabar el audio para convertirlo a texto.\n",
      "\n",
      "Acuerdos: Usar un plugin para marcar un número telefónico con un código para entrar a una llamada de Google Meet, Zoom o Teams. Usar un software como Génesis para marcar la llamada y grabar el audio para convertirlo a texto.\n",
      "\n",
      "Decisiones: Usar un plugin para marcar un número telefónico con un código para entrar a una llamada de Google Meet, Zoom o Teams. Usar un software como Génesis para marcar la llamada y grabar el audio para convertirlo a texto.\n",
      "Resumen: Daniel Ibars y Tú están discutiendo sobre cómo usar la API de Google Meet para extraer texto de una clase. Están tratando de ver cómo funciona el Close Caption y cómo se comporta el texto. Están tratando de ver cómo se puede marcar el tema y cómo el Axis está leyendo el código. \n",
      "\n",
      "Tareas: Investigar cómo funcionan las APIs de Google Meet, intentar darle shift control al navegador, expandir el DIF, extraer el texto de la clase, ver cómo funciona el Close Caption, ver cómo se comporta el texto, ver cómo se puede marcar el tema, ver cómo el Axis está leyendo el código. \n",
      "\n",
      "Acuerdos: Usar la API de Google Meet para extraer texto de una clase, usar el Close Caption para ver cómo se comporta el texto, ver cómo se puede marcar el tema, ver cómo el Axis está leyendo el código. \n",
      "\n",
      "Decisiones: Usar la API de Google Meet para extraer texto de una clase, usar el Close Caption para ver cómo se comporta el texto, ver cómo se puede marcar el tema, ver cómo el Axis está leyendo el código.\n",
      "Resumen: Daniel Ibars y Tú están discutiendo sobre la creación de un Script para un video, el cual debe ser corto para evitar aburrir a la audiencia. Están considerando la posibilidad de usar Inteligencia Artificial para sacar insights de las llamadas de la empresa y hacer la vida más fácil para los project managers. \n",
      "\n",
      "Tareas: \n",
      "- Crear un Script para el video. \n",
      "- Usar Inteligencia Artificial para sacar insights de las llamadas de la empresa. \n",
      "- Hacer la vida más fácil para los project managers. \n",
      "\n",
      "Acuerdos: \n",
      "- El video debe ser corto para evitar aburrir a la audiencia. \n",
      "\n",
      "Decisiones: \n",
      "- Usar Inteligencia Artificial para sacar insights de las llamadas de la empresa. \n",
      "- Hacer la vida más fácil para los project managers.\n",
      "Resumen: Daniel Ibars y Tú están hablando sobre cómo el código se colapsa y no deja ver si se genera una ID nueva. Están discutiendo sobre cómo se agrega un DIF cuando hay dos personas hablando y cómo se puede usar un plugin para obtener información de un chat GPT.\n",
      "\n",
      "Tareas: Investigar cómo se agrega un DIF cuando hay dos personas hablando y desarrollar un plugin para obtener información de un chat GPT.\n",
      "\n",
      "Acuerdos: Usar un plugin para obtener información de un chat GPT.\n",
      "\n",
      "Decisiones: Investigar cómo se agrega un DIF cuando hay dos personas hablando.\n",
      "Resumen: Tú y Daniel Ibars están discutiendo sobre la posibilidad de crear un chatbot que pueda identificar preguntas y responderlas sin interrumpir la conversación. Están considerando la posibilidad de agendar una llamada con un bot para comprar algo. \n",
      "\n",
      "Tareas: Investigar la posibilidad de crear un chatbot que pueda identificar preguntas y responderlas sin interrumpir la conversación. \n",
      "\n",
      "Acuerdos: Agendar una llamada con un bot para comprar algo. \n",
      "\n",
      "Decisiones: No se tomaron decisiones en este meeting.\n",
      "Resumen: Daniel Ibars y el otro participante están discutiendo sobre una compresora de aire y el sistema de atención a clientes que la empresa que la vende ofrece. Están discutiendo sobre cómo la Inteligencia Artificial reemplaza a los trabajadores y cómo el sistema de Axis logra capturar el texto en tiempo real. Están discutiendo sobre cómo extraer el texto sin plugin y cómo hacer su propio plugin.\n",
      "\n",
      "Tareas: Investigar cómo la Inteligencia Artificial reemplaza a los trabajadores. Investigar cómo el sistema de Axis logra capturar el texto en tiempo real. Investigar cómo extraer el texto sin plugin y cómo hacer su propio plugin.\n",
      "\n",
      "Acuerdos: No hay acuerdos.\n",
      "\n",
      "Decisiones: No hay decisiones.\n",
      "Resumen: El meeting trata sobre la creación de una herramienta para transcribir y analizar texto. Se discutió la posibilidad de usar una extensión de Chrome para lupa, así como una herramienta de Microsoft para hacer transcripciones. Se mencionó la necesidad de identificar qué ofrecen las otras compañías para poder ofrecer algo que ninguna tenga y así tener un elemento diferenciador. Se mencionó la necesidad de hacer un análisis FODA para identificar fortalezas, debilidades, oportunidades y amenazas. Finalmente, se discutió la posibilidad de que David proceda legalmente contra ellos.\n",
      "\n",
      "Tareas: \n",
      "-Crear una herramienta para transcribir y analizar texto. \n",
      "-Usar una extensión de Chrome para lupa. \n",
      "-Usar una herramienta de Microsoft para hacer transcripciones. \n",
      "-Identificar qué ofrecen las otras compañías para poder ofrecer algo que ninguna tenga. \n",
      "-Hacer un análisis FODA para identificar fortalezas, debilidades, oportunidades y amenazas. \n",
      "\n",
      "Acuerdos: \n",
      "-Usar una extensión de Chrome para lupa. \n",
      "-Usar una herramienta de Microsoft para hacer transcripciones. \n",
      "-Identificar qué ofrecen las otras compañías para poder ofrecer algo que ninguna tenga. \n",
      "-Hacer un análisis FODA para identificar fortalezas, debilidades, oportunidades y amenazas. \n",
      "\n",
      "Decisiones: \n",
      "-Crear una herramienta para transcribir y analizar texto. \n",
      "-Usar una extensión de Chrome para lupa. \n",
      "-Usar una herramienta de Microsoft para hacer transcripciones. \n",
      "-Identificar qué ofrecen las otras compañías para poder ofrecer algo que ninguna tenga. \n",
      "-Hacer un análisis FODA para identificar fortalezas, debilidades, oportunidades y amenazas. \n",
      "-Meterse al notion para encontrar herramientas que hagan lo mismo. \n",
      "-Usar un filtro de luz azul para la pantalla.\n",
      "Resumen: Ale y Daniel Ibars se despiden con un abrazo y deseándose cuidarse. \n",
      "Tareas: No hay tareas. \n",
      "Acuerdos: No hay acuerdos. \n",
      "Decisiones: No hay decisiones.'''\n",
      " Integra el texto anterior en una sola estructura: resumen, tareas, acuerdos y decisiones, pero devuelvelo en formato JSON tal como el siguiente ejemplo: \n",
      "{\"resumen\": \"[RESUMEN DEL TRANSCRIPT]\", \"tareas\": [\"[TAREAS 1]\", \"[TAREAS 2]\"], \"acuerdos\": [\"[ACUERDO 1]\", \"[ACUERDO 2]\", \"[ACUERDO 3]\"], \"decisiones\": [\"[DECISION 1]\", \"[DECISION 2]\", \"[DECISION 3]\"]}\n"
     ]
    }
   ],
   "source": [
    "print(main_prompt)"
   ]
  },
  {
   "cell_type": "code",
   "execution_count": 23,
   "metadata": {},
   "outputs": [
    {
     "data": {
      "text/plain": [
       "2368"
      ]
     },
     "execution_count": 23,
     "metadata": {},
     "output_type": "execute_result"
    }
   ],
   "source": [
    "num_tokens_from_string(main_prompt)"
   ]
  },
  {
   "cell_type": "code",
   "execution_count": 24,
   "metadata": {},
   "outputs": [],
   "source": [
    "salida = completion(main_prompt)"
   ]
  },
  {
   "cell_type": "code",
   "execution_count": 32,
   "metadata": {},
   "outputs": [
    {
     "name": "stdout",
     "output_type": "stream",
     "text": [
      "{\"resumen\": \"Daniel Ibars y Tú están discutiendo sobre la creación de un Script para un video, el cual debe ser corto para evitar aburrir a la audiencia. Están considerando la posibilidad de usar Inteligencia Artificial para sacar insights de las llamadas de la empresa y hacer la vida más fácil para los project managers.\", \"tareas\": [\"Crear un Script para el video.\", \"Usar Inteligencia Artificial para sacar insights de las llamadas de la empresa.\", \"Hacer la vida más fácil para los project managers.\"], \"acuerdos\": [\"El video debe ser corto para evitar aburrir a la audiencia.\"], \"decisiones\": [\"Usar Inteligencia Artificial para sacar insights de las llamadas de la empresa.\", \"Hacer la vida más fácil para los project managers.\"]}\n"
     ]
    }
   ],
   "source": [
    "print(salida['choices'][0]['text'].strip())"
   ]
  },
  {
   "cell_type": "code",
   "execution_count": null,
   "metadata": {},
   "outputs": [],
   "source": []
  }
 ],
 "metadata": {
  "kernelspec": {
   "display_name": "meetenhancer",
   "language": "python",
   "name": "python3"
  },
  "language_info": {
   "codemirror_mode": {
    "name": "ipython",
    "version": 3
   },
   "file_extension": ".py",
   "mimetype": "text/x-python",
   "name": "python",
   "nbconvert_exporter": "python",
   "pygments_lexer": "ipython3",
   "version": "3.10.6"
  },
  "orig_nbformat": 4
 },
 "nbformat": 4,
 "nbformat_minor": 2
}
